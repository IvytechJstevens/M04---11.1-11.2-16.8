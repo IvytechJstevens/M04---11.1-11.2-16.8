{
 "cells": [
  {
   "cell_type": "code",
   "execution_count": 1,
   "id": "ee0fe162",
   "metadata": {},
   "outputs": [
    {
     "name": "stdout",
     "output_type": "stream",
     "text": [
      "[{'author': 'J R R Tolkien', 'book': 'The Hobbit'}, {'author': 'Lynne Truss', 'book': 'Eats, Shoots & Leaves'}]\n"
     ]
    }
   ],
   "source": [
    "import csv\n",
    "\n",
    "# Read books.csv using csv.DictReader\n",
    "with open('books.csv', 'r') as file:\n",
    "    reader = csv.DictReader(file)\n",
    "    books = list(reader)\n",
    "\n",
    "# Print the values in books\n",
    "print(books)"
   ]
  },
  {
   "cell_type": "code",
   "execution_count": 2,
   "id": "fe901565",
   "metadata": {},
   "outputs": [],
   "source": [
    "import sqlite3\n",
    "\n",
    "# Create SQLite database and table\n",
    "conn = sqlite3.connect('books.db')\n",
    "cursor = conn.cursor()\n",
    "\n",
    "cursor.execute('''\n",
    "    CREATE TABLE books (\n",
    "        title TEXT,\n",
    "        author TEXT,\n",
    "        year INTEGER\n",
    "    )\n",
    "''')\n",
    "\n",
    "conn.commit()\n",
    "conn.close()"
   ]
  },
  {
   "cell_type": "code",
   "execution_count": 3,
   "id": "608a94d0",
   "metadata": {},
   "outputs": [],
   "source": [
    "import csv\n",
    "\n",
    "# Read books2.csv and insert data into the book table\n",
    "with open('books2.csv', 'r') as file:\n",
    "    reader = csv.reader(file)\n",
    "    next(reader)  # Skip header row\n",
    "    for row in reader:\n",
    "        conn = sqlite3.connect('books.db')\n",
    "        cursor = conn.cursor()\n",
    "        cursor.execute('INSERT INTO books VALUES (?, ?, ?)', (row[0], row[1], int(row[2])))\n",
    "        conn.commit()\n",
    "        conn.close()"
   ]
  },
  {
   "cell_type": "code",
   "execution_count": 4,
   "id": "138555ba",
   "metadata": {},
   "outputs": [
    {
     "name": "stdout",
     "output_type": "stream",
     "text": [
      "Perdido Street Station\n",
      "Small Gods\n",
      "The Spellman Files\n",
      "The Weirdstone of Brisingamen\n",
      "Thud!\n"
     ]
    }
   ],
   "source": [
    "import sqlite3\n",
    "\n",
    "# Connect to the database and select title column in alphabetical order\n",
    "conn = sqlite3.connect('books.db')\n",
    "cursor = conn.cursor()\n",
    "\n",
    "cursor.execute('SELECT title FROM books ORDER BY title')\n",
    "titles = cursor.fetchall()\n",
    "\n",
    "for title in titles:\n",
    "    print(title[0])\n",
    "\n",
    "conn.close()"
   ]
  },
  {
   "cell_type": "code",
   "execution_count": 5,
   "id": "ad787c03",
   "metadata": {},
   "outputs": [
    {
     "name": "stdout",
     "output_type": "stream",
     "text": [
      "('The Weirdstone of Brisingamen', 'Alan Garner', 1960)\n",
      "('Small Gods', 'Terry Pratchett', 1992)\n",
      "('Perdido Street Station', 'China Mi‚ville', 2000)\n",
      "('Thud!', 'Terry Pratchett', 2005)\n",
      "('The Spellman Files', 'Lisa Lutz', 2007)\n"
     ]
    }
   ],
   "source": [
    "import sqlite3\n",
    "\n",
    "# Connect to the database and select all columns in order of publication\n",
    "conn = sqlite3.connect('books.db')\n",
    "cursor = conn.cursor()\n",
    "\n",
    "cursor.execute('SELECT * FROM books ORDER BY year')\n",
    "books = cursor.fetchall()\n",
    "\n",
    "for book in books:\n",
    "    print(book)\n",
    "\n",
    "conn.close()"
   ]
  },
  {
   "cell_type": "code",
   "execution_count": 8,
   "id": "dfe68238",
   "metadata": {},
   "outputs": [
    {
     "name": "stdout",
     "output_type": "stream",
     "text": [
      "Collecting SQLAlchemy\n",
      "  Downloading SQLAlchemy-2.0.23-cp311-cp311-win_amd64.whl (2.1 MB)\n",
      "                                              0.0/2.1 MB ? eta -:--:--\n",
      "                                              0.0/2.1 MB ? eta -:--:--\n",
      "                                              0.0/2.1 MB ? eta -:--:--\n",
      "     -                                        0.1/2.1 MB 544.7 kB/s eta 0:00:04\n",
      "     ----                                     0.2/2.1 MB 1.5 MB/s eta 0:00:02\n",
      "     ------------                             0.6/2.1 MB 3.1 MB/s eta 0:00:01\n",
      "     ------------------------------           1.6/2.1 MB 6.3 MB/s eta 0:00:01\n",
      "     ---------------------------------------- 2.1/2.1 MB 7.7 MB/s eta 0:00:00\n",
      "Collecting typing-extensions>=4.2.0 (from SQLAlchemy)\n",
      "  Downloading typing_extensions-4.8.0-py3-none-any.whl (31 kB)\n",
      "Collecting greenlet!=0.4.17 (from SQLAlchemy)\n",
      "  Downloading greenlet-3.0.1-cp311-cp311-win_amd64.whl (288 kB)\n",
      "                                              0.0/288.4 kB ? eta -:--:--\n",
      "     ---------------------------------------- 288.4/288.4 kB ? eta 0:00:00\n",
      "Installing collected packages: typing-extensions, greenlet, SQLAlchemy\n",
      "Successfully installed SQLAlchemy-2.0.23 greenlet-3.0.1 typing-extensions-4.8.0\n",
      "Note: you may need to restart the kernel to use updated packages.\n"
     ]
    },
    {
     "name": "stderr",
     "output_type": "stream",
     "text": [
      "\n",
      "[notice] A new release of pip is available: 23.1.2 -> 23.3.1\n",
      "[notice] To update, run: C:\\Users\\jaceb\\AppData\\Local\\Microsoft\\WindowsApps\\PythonSoftwareFoundation.Python.3.11_qbz5n2kfra8p0\\python.exe -m pip install --upgrade pip\n"
     ]
    }
   ],
   "source": [
    "pip install SQLAlchemy"
   ]
  },
  {
   "cell_type": "code",
   "execution_count": 9,
   "id": "b2caa2a7",
   "metadata": {},
   "outputs": [
    {
     "name": "stdout",
     "output_type": "stream",
     "text": [
      "Perdido Street Station\n",
      "Small Gods\n",
      "The Spellman Files\n",
      "The Weirdstone of Brisingamen\n",
      "Thud!\n"
     ]
    },
    {
     "name": "stderr",
     "output_type": "stream",
     "text": [
      "C:\\Users\\jaceb\\AppData\\Local\\Temp\\ipykernel_5552\\262508587.py:6: MovedIn20Warning: The ``declarative_base()`` function is now available as sqlalchemy.orm.declarative_base(). (deprecated since: 2.0) (Background on SQLAlchemy 2.0 at: https://sqlalche.me/e/b8d9)\n",
      "  Base = declarative_base()\n"
     ]
    }
   ],
   "source": [
    "from sqlalchemy import create_engine, Column, String, Integer\n",
    "from sqlalchemy.ext.declarative import declarative_base\n",
    "from sqlalchemy.orm import sessionmaker\n",
    "\n",
    "# Define the Book class\n",
    "Base = declarative_base()\n",
    "class Book(Base):\n",
    "    __tablename__ = 'books'\n",
    "    title = Column(String, primary_key=True)\n",
    "\n",
    "# Create an SQLite database engine\n",
    "engine = create_engine('sqlite:///books.db')\n",
    "\n",
    "# Create a session to interact with the database\n",
    "Session = sessionmaker(bind=engine)\n",
    "session = Session()\n",
    "\n",
    "# Select and print the title column from the books table in alphabetical order\n",
    "books = session.query(Book).order_by(Book.title).all()\n",
    "\n",
    "for book in books:\n",
    "    print(book.title)"
   ]
  }
 ],
 "metadata": {
  "kernelspec": {
   "display_name": "Python 3 (ipykernel)",
   "language": "python",
   "name": "python3"
  },
  "language_info": {
   "codemirror_mode": {
    "name": "ipython",
    "version": 3
   },
   "file_extension": ".py",
   "mimetype": "text/x-python",
   "name": "python",
   "nbconvert_exporter": "python",
   "pygments_lexer": "ipython3",
   "version": "3.11.5"
  }
 },
 "nbformat": 4,
 "nbformat_minor": 5
}
